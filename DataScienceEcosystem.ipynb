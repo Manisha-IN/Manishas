{
 "cells": [
  {
   "cell_type": "markdown",
   "id": "48edaf3b-5914-42fb-ad4c-a60a03a4e41c",
   "metadata": {},
   "source": [
    "**Exercise 2: Create markdown cell with title of the notebook**\n",
    "\n",
    "Create a markdown cell with the title Data Science Tools and Ecosystem using H1 style heading.\n",
    "\n",
    "# **Data Science Tools and Ecosystem**"
   ]
  },
  {
   "cell_type": "markdown",
   "id": "c5e2a4fa-31c3-4ef7-a12c-9179b172a617",
   "metadata": {},
   "source": [
    "**Exercise 3 - Create a markdown cell for an introduction**"
   ]
  },
  {
   "cell_type": "markdown",
   "id": "06de51f5-cf94-4df7-af98-9d67b89e3c48",
   "metadata": {},
   "source": [
    "In this notebook, Data Science Tools and Ecosystem are summarized."
   ]
  },
  {
   "cell_type": "markdown",
   "id": "97eb0a1d-f2a6-46eb-a903-21c22b27313f",
   "metadata": {},
   "source": [
    "**Objectives:**"
   ]
  },
  {
   "cell_type": "markdown",
   "id": "138a99c7-da9f-4cd6-adb1-0a9873a58eca",
   "metadata": {},
   "source": [
    "* List data science languages\n",
    "* List data science libraries\n",
    "* Tabulate data science tools\n",
    "* Multiply, add, and divide numbers"
   ]
  },
  {
   "cell_type": "markdown",
   "id": "d45f92b0-d8c7-4056-ab2a-b0c8ce4697a0",
   "metadata": {},
   "source": [
    "**Exercise 4 - Create a markdown cell to list data science languages**"
   ]
  },
  {
   "cell_type": "markdown",
   "id": "ee33542b-5bba-4600-927f-533a2d3583b8",
   "metadata": {
    "tags": []
   },
   "source": [
    "\"Some of the popular languages that Data Scientists use are:\"\n",
    "1. Python\n",
    "2. R\n",
    "3. Java"
   ]
  },
  {
   "cell_type": "markdown",
   "id": "36d1f3c8-3987-4425-8795-20348fffe8f8",
   "metadata": {},
   "source": [
    "**Exercise 5 - Create a markdown cell to list data science libraries**"
   ]
  },
  {
   "cell_type": "markdown",
   "id": "5dfda1ba-5834-49d5-8e8c-2a62720688aa",
   "metadata": {},
   "source": [
    "\"Some of the commonly used libraries used by Data Scientists include:\"\n",
    "1. Matplotlib\n",
    "2. Ggplot\n",
    "3. Pandas\n"
   ]
  },
  {
   "cell_type": "markdown",
   "id": "47f23006-f195-4a8c-8eaf-29108a18aa7a",
   "metadata": {},
   "source": [
    "**Exercise 6 - Create a markdown cell with a table of Data Science tools**"
   ]
  },
  {
   "cell_type": "markdown",
   "id": "43e8d501-931b-4c2b-8ed9-03006d923da8",
   "metadata": {},
   "source": [
    "|**Data Science Tools**|\n",
    "|----------------------|\n",
    "|Pandas|\n",
    "|Hadoop|\n",
    "|Spark|\n"
   ]
  },
  {
   "cell_type": "markdown",
   "id": "f2b85238-3e2e-4e64-9c6a-a540d612f4fc",
   "metadata": {},
   "source": [
    "**Exercise 7 - Create a markdown cell introducing arithmetic expression examples**"
   ]
  },
  {
   "cell_type": "markdown",
   "id": "9822c68f-9e93-4aa3-af01-3aed62987528",
   "metadata": {
    "tags": []
   },
   "source": [
    "Below are a few examples of evaluating arithmetic expressions in Python"
   ]
  },
  {
   "cell_type": "markdown",
   "id": "063b2b39-5fd8-47f9-ab27-7fe03b013690",
   "metadata": {},
   "source": [
    "**Exercise 8 - Create a code cell to multiply and add numbers**"
   ]
  },
  {
   "cell_type": "markdown",
   "id": "d7691431-8afc-49f5-a1e4-209802dd4ac6",
   "metadata": {
    "tags": []
   },
   "source": [
    "This a simple arithmetic expression to multiply then add integers"
   ]
  },
  {
   "cell_type": "code",
   "execution_count": 4,
   "id": "9eda0c30-374e-47e1-9099-7cf9eec7b018",
   "metadata": {
    "tags": []
   },
   "outputs": [
    {
     "data": {
      "text/plain": [
       "17"
      ]
     },
     "execution_count": 4,
     "metadata": {},
     "output_type": "execute_result"
    }
   ],
   "source": [
    "(3*4)+5"
   ]
  },
  {
   "cell_type": "markdown",
   "id": "4159874a-8fe0-42d0-9469-162fd4aa4405",
   "metadata": {},
   "source": [
    "**Exercise 9 - Create a code cell to convert minutes to hours**"
   ]
  },
  {
   "cell_type": "markdown",
   "id": "0411b08d-3a77-4271-ab98-20779e799cc9",
   "metadata": {},
   "source": [
    "This will convert 200 minutes to hours by diving by 60"
   ]
  },
  {
   "cell_type": "code",
   "execution_count": 5,
   "id": "f9ea9615-730e-4c60-b69a-e415e5c7b7fe",
   "metadata": {
    "tags": []
   },
   "outputs": [
    {
     "data": {
      "text/plain": [
       "3.3333333333333335"
      ]
     },
     "execution_count": 5,
     "metadata": {},
     "output_type": "execute_result"
    }
   ],
   "source": [
    "200/60"
   ]
  },
  {
   "cell_type": "markdown",
   "id": "9a8b385d-addb-4c8b-a034-ed429f62dd2d",
   "metadata": {},
   "source": [
    "**Exercise 10 - Insert a markdown cell to list Objectives**\n"
   ]
  },
  {
   "cell_type": "markdown",
   "id": "83efe40e-34db-41b0-a5b7-0db23752cf66",
   "metadata": {},
   "source": [
    "Refer to Exercise 3"
   ]
  },
  {
   "cell_type": "markdown",
   "id": "b0ecb4d9-e323-4979-bbb6-a6028d8f2b32",
   "metadata": {},
   "source": [
    "**Exercise 11 - Create a markdown cell to indicate the Author's name**"
   ]
  },
  {
   "cell_type": "markdown",
   "id": "fa3a95c5-58f8-49d5-b142-cef21f1e1d8d",
   "metadata": {},
   "source": [
    "## Author\n",
    "\n",
    "Manisha"
   ]
  },
  {
   "cell_type": "code",
   "execution_count": null,
   "id": "cb2637d2-2936-46f8-b0c9-dd6c85b0dced",
   "metadata": {},
   "outputs": [],
   "source": []
  }
 ],
 "metadata": {
  "kernelspec": {
   "display_name": "Python",
   "language": "python",
   "name": "conda-env-python-py"
  },
  "language_info": {
   "codemirror_mode": {
    "name": "ipython",
    "version": 3
   },
   "file_extension": ".py",
   "mimetype": "text/x-python",
   "name": "python",
   "nbconvert_exporter": "python",
   "pygments_lexer": "ipython3",
   "version": "3.7.12"
  }
 },
 "nbformat": 4,
 "nbformat_minor": 5
}
